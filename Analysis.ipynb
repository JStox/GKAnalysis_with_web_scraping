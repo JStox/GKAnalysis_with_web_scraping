{
 "cells": [
  {
   "cell_type": "code",
   "execution_count": 20,
   "metadata": {},
   "outputs": [],
   "source": [
    "import pandas as pd\n",
    "import numpy as np"
   ]
  },
  {
   "cell_type": "code",
   "execution_count": 21,
   "metadata": {},
   "outputs": [
    {
     "data": {
      "text/html": [
       "<div>\n",
       "<style scoped>\n",
       "    .dataframe tbody tr th:only-of-type {\n",
       "        vertical-align: middle;\n",
       "    }\n",
       "\n",
       "    .dataframe tbody tr th {\n",
       "        vertical-align: top;\n",
       "    }\n",
       "\n",
       "    .dataframe thead th {\n",
       "        text-align: right;\n",
       "    }\n",
       "</style>\n",
       "<table border=\"1\" class=\"dataframe\">\n",
       "  <thead>\n",
       "    <tr style=\"text-align: right;\">\n",
       "      <th></th>\n",
       "      <th>Unnamed: 0</th>\n",
       "      <th>time</th>\n",
       "      <th>event</th>\n",
       "      <th>team</th>\n",
       "      <th>game</th>\n",
       "    </tr>\n",
       "  </thead>\n",
       "  <tbody>\n",
       "    <tr>\n",
       "      <th>0</th>\n",
       "      <td>0</td>\n",
       "      <td>1</td>\n",
       "      <td>Start Half</td>\n",
       "      <td>NaN</td>\n",
       "      <td>{'', 'on', 'Everton', 'Crystal Palace', '\\r\\n\\...</td>\n",
       "    </tr>\n",
       "    <tr>\n",
       "      <th>1</th>\n",
       "      <td>1</td>\n",
       "      <td>1</td>\n",
       "      <td>Throw-In</td>\n",
       "      <td>Everton</td>\n",
       "      <td>{'', 'on', 'Everton', 'Crystal Palace', '\\r\\n\\...</td>\n",
       "    </tr>\n",
       "    <tr>\n",
       "      <th>2</th>\n",
       "      <td>2</td>\n",
       "      <td>1</td>\n",
       "      <td>Cross</td>\n",
       "      <td>Everton</td>\n",
       "      <td>{'', 'on', 'Everton', 'Crystal Palace', '\\r\\n\\...</td>\n",
       "    </tr>\n",
       "    <tr>\n",
       "      <th>3</th>\n",
       "      <td>3</td>\n",
       "      <td>1</td>\n",
       "      <td>Cross</td>\n",
       "      <td>Everton</td>\n",
       "      <td>{'', 'on', 'Everton', 'Crystal Palace', '\\r\\n\\...</td>\n",
       "    </tr>\n",
       "    <tr>\n",
       "      <th>4</th>\n",
       "      <td>4</td>\n",
       "      <td>2</td>\n",
       "      <td>Throw-In</td>\n",
       "      <td>Everton</td>\n",
       "      <td>{'', 'on', 'Everton', 'Crystal Palace', '\\r\\n\\...</td>\n",
       "    </tr>\n",
       "  </tbody>\n",
       "</table>\n",
       "</div>"
      ],
      "text/plain": [
       "   Unnamed: 0 time       event     team  \\\n",
       "0           0    1  Start Half      NaN   \n",
       "1           1    1    Throw-In  Everton   \n",
       "2           2    1       Cross  Everton   \n",
       "3           3    1       Cross  Everton   \n",
       "4           4    2    Throw-In  Everton   \n",
       "\n",
       "                                                game  \n",
       "0  {'', 'on', 'Everton', 'Crystal Palace', '\\r\\n\\...  \n",
       "1  {'', 'on', 'Everton', 'Crystal Palace', '\\r\\n\\...  \n",
       "2  {'', 'on', 'Everton', 'Crystal Palace', '\\r\\n\\...  \n",
       "3  {'', 'on', 'Everton', 'Crystal Palace', '\\r\\n\\...  \n",
       "4  {'', 'on', 'Everton', 'Crystal Palace', '\\r\\n\\...  "
      ]
     },
     "execution_count": 21,
     "metadata": {},
     "output_type": "execute_result"
    }
   ],
   "source": [
    "df = pd.read_csv('play_by_play.csv')\n",
    "df.head()"
   ]
  },
  {
   "cell_type": "code",
   "execution_count": 22,
   "metadata": {},
   "outputs": [],
   "source": [
    "# Want to make the game the index"
   ]
  },
  {
   "cell_type": "code",
   "execution_count": 23,
   "metadata": {},
   "outputs": [],
   "source": [
    "df.drop('Unnamed: 0', inplace=True, axis=1)"
   ]
  },
  {
   "cell_type": "code",
   "execution_count": 24,
   "metadata": {},
   "outputs": [
    {
     "data": {
      "text/html": [
       "<div>\n",
       "<style scoped>\n",
       "    .dataframe tbody tr th:only-of-type {\n",
       "        vertical-align: middle;\n",
       "    }\n",
       "\n",
       "    .dataframe tbody tr th {\n",
       "        vertical-align: top;\n",
       "    }\n",
       "\n",
       "    .dataframe thead th {\n",
       "        text-align: right;\n",
       "    }\n",
       "</style>\n",
       "<table border=\"1\" class=\"dataframe\">\n",
       "  <thead>\n",
       "    <tr style=\"text-align: right;\">\n",
       "      <th></th>\n",
       "      <th>time</th>\n",
       "      <th>event</th>\n",
       "      <th>team</th>\n",
       "      <th>game</th>\n",
       "    </tr>\n",
       "  </thead>\n",
       "  <tbody>\n",
       "    <tr>\n",
       "      <th>0</th>\n",
       "      <td>1</td>\n",
       "      <td>Start Half</td>\n",
       "      <td>NaN</td>\n",
       "      <td>{'', 'on', 'Everton', 'Crystal Palace', '\\r\\n\\...</td>\n",
       "    </tr>\n",
       "    <tr>\n",
       "      <th>1</th>\n",
       "      <td>1</td>\n",
       "      <td>Throw-In</td>\n",
       "      <td>Everton</td>\n",
       "      <td>{'', 'on', 'Everton', 'Crystal Palace', '\\r\\n\\...</td>\n",
       "    </tr>\n",
       "    <tr>\n",
       "      <th>2</th>\n",
       "      <td>1</td>\n",
       "      <td>Cross</td>\n",
       "      <td>Everton</td>\n",
       "      <td>{'', 'on', 'Everton', 'Crystal Palace', '\\r\\n\\...</td>\n",
       "    </tr>\n",
       "    <tr>\n",
       "      <th>3</th>\n",
       "      <td>1</td>\n",
       "      <td>Cross</td>\n",
       "      <td>Everton</td>\n",
       "      <td>{'', 'on', 'Everton', 'Crystal Palace', '\\r\\n\\...</td>\n",
       "    </tr>\n",
       "    <tr>\n",
       "      <th>4</th>\n",
       "      <td>2</td>\n",
       "      <td>Throw-In</td>\n",
       "      <td>Everton</td>\n",
       "      <td>{'', 'on', 'Everton', 'Crystal Palace', '\\r\\n\\...</td>\n",
       "    </tr>\n",
       "  </tbody>\n",
       "</table>\n",
       "</div>"
      ],
      "text/plain": [
       "  time       event     team                                               game\n",
       "0    1  Start Half      NaN  {'', 'on', 'Everton', 'Crystal Palace', '\\r\\n\\...\n",
       "1    1    Throw-In  Everton  {'', 'on', 'Everton', 'Crystal Palace', '\\r\\n\\...\n",
       "2    1       Cross  Everton  {'', 'on', 'Everton', 'Crystal Palace', '\\r\\n\\...\n",
       "3    1       Cross  Everton  {'', 'on', 'Everton', 'Crystal Palace', '\\r\\n\\...\n",
       "4    2    Throw-In  Everton  {'', 'on', 'Everton', 'Crystal Palace', '\\r\\n\\..."
      ]
     },
     "execution_count": 24,
     "metadata": {},
     "output_type": "execute_result"
    }
   ],
   "source": [
    "df.head() # need to clean up game and add an inner index"
   ]
  },
  {
   "cell_type": "code",
   "execution_count": 43,
   "metadata": {},
   "outputs": [
    {
     "data": {
      "text/plain": [
       "165"
      ]
     },
     "execution_count": 43,
     "metadata": {},
     "output_type": "execute_result"
    }
   ],
   "source": [
    "number_of_events_per_game = df['game'].value_counts().to_dict()\n",
    "len(number_of_events_per_game)"
   ]
  },
  {
   "cell_type": "code",
   "execution_count": 44,
   "metadata": {},
   "outputs": [
    {
     "data": {
      "text/plain": [
       "array([\"{'', 'on', 'Everton', 'Crystal Palace', '\\\\r\\\\n\\\\r\\\\nCrystal Palace 0-0 Everto'}\",\n",
       "       \"{'', 'on', 'Liverpool', '\\\\r\\\\n\\\\r\\\\nLiverpool 4-1 Norwich Cit', '\\\\r\\\\n\\\\r\\\\nLiverpool 4-0 Norwich Cit', 'Norwich City'}\",\n",
       "       \"{'', 'on', 'Burnley', 'Southampton', '\\\\r\\\\n\\\\r\\\\nBurnley 3-0 Southampto', '\\\\r\\\\n\\\\r\\\\nBurnley 0-0 Southampto'}\"],\n",
       "      dtype=object)"
      ]
     },
     "execution_count": 44,
     "metadata": {},
     "output_type": "execute_result"
    }
   ],
   "source": [
    "ordered_games = df['game'].unique()\n",
    "ordered_games[:3]"
   ]
  },
  {
   "cell_type": "code",
   "execution_count": 45,
   "metadata": {},
   "outputs": [],
   "source": [
    "list_of_games = []\n",
    "list_of_indicies = []\n",
    "for game in ordered_games:\n",
    "    game_list = [game for i in range(number_of_events_per_game[game])]\n",
    "    value_list = [i for i in range(number_of_events_per_game[game])]\n",
    "    list_of_games.append(game_list)\n",
    "    list_of_indicies.append(value_list)"
   ]
  },
  {
   "cell_type": "code",
   "execution_count": 46,
   "metadata": {},
   "outputs": [],
   "source": [
    "games = []\n",
    "values = []\n",
    "for l in list_of_games:\n",
    "    games += l\n",
    "for k in list_of_indicies:\n",
    "    values += k \n",
    "# now we should have two lists to zip and create a hierarchical index"
   ]
  },
  {
   "cell_type": "code",
   "execution_count": 47,
   "metadata": {},
   "outputs": [],
   "source": [
    "hier_index = list(zip(games, values))\n",
    "hier_index = pd.MultiIndex.from_tuples(hier_index)"
   ]
  },
  {
   "cell_type": "code",
   "execution_count": 52,
   "metadata": {},
   "outputs": [],
   "source": [
    "df.set_index(hier_index, inplace=True)"
   ]
  },
  {
   "cell_type": "code",
   "execution_count": 55,
   "metadata": {},
   "outputs": [
    {
     "data": {
      "text/html": [
       "<div>\n",
       "<style scoped>\n",
       "    .dataframe tbody tr th:only-of-type {\n",
       "        vertical-align: middle;\n",
       "    }\n",
       "\n",
       "    .dataframe tbody tr th {\n",
       "        vertical-align: top;\n",
       "    }\n",
       "\n",
       "    .dataframe thead th {\n",
       "        text-align: right;\n",
       "    }\n",
       "</style>\n",
       "<table border=\"1\" class=\"dataframe\">\n",
       "  <thead>\n",
       "    <tr style=\"text-align: right;\">\n",
       "      <th></th>\n",
       "      <th></th>\n",
       "      <th>time</th>\n",
       "      <th>event</th>\n",
       "      <th>team</th>\n",
       "    </tr>\n",
       "  </thead>\n",
       "  <tbody>\n",
       "    <tr>\n",
       "      <th rowspan=\"5\" valign=\"top\">{'', 'on', 'Everton', 'Crystal Palace', '\\r\\n\\r\\nCrystal Palace 0-0 Everto'}</th>\n",
       "      <th>0</th>\n",
       "      <td>1</td>\n",
       "      <td>Start Half</td>\n",
       "      <td>NaN</td>\n",
       "    </tr>\n",
       "    <tr>\n",
       "      <th>1</th>\n",
       "      <td>1</td>\n",
       "      <td>Throw-In</td>\n",
       "      <td>Everton</td>\n",
       "    </tr>\n",
       "    <tr>\n",
       "      <th>2</th>\n",
       "      <td>1</td>\n",
       "      <td>Cross</td>\n",
       "      <td>Everton</td>\n",
       "    </tr>\n",
       "    <tr>\n",
       "      <th>3</th>\n",
       "      <td>1</td>\n",
       "      <td>Cross</td>\n",
       "      <td>Everton</td>\n",
       "    </tr>\n",
       "    <tr>\n",
       "      <th>4</th>\n",
       "      <td>2</td>\n",
       "      <td>Throw-In</td>\n",
       "      <td>Everton</td>\n",
       "    </tr>\n",
       "  </tbody>\n",
       "</table>\n",
       "</div>"
      ],
      "text/plain": [
       "                                                     time       event     team\n",
       "{'', 'on', 'Everton', 'Crystal Palace', '\\r\\n\\r... 0    1  Start Half      NaN\n",
       "                                                   1    1    Throw-In  Everton\n",
       "                                                   2    1       Cross  Everton\n",
       "                                                   3    1       Cross  Everton\n",
       "                                                   4    2    Throw-In  Everton"
      ]
     },
     "execution_count": 55,
     "metadata": {},
     "output_type": "execute_result"
    }
   ],
   "source": [
    "df.head() # all ready to go"
   ]
  },
  {
   "cell_type": "code",
   "execution_count": null,
   "metadata": {},
   "outputs": [],
   "source": []
  },
  {
   "cell_type": "code",
   "execution_count": null,
   "metadata": {},
   "outputs": [],
   "source": []
  }
 ],
 "metadata": {
  "kernelspec": {
   "display_name": "Python 3",
   "language": "python",
   "name": "python3"
  },
  "language_info": {
   "codemirror_mode": {
    "name": "ipython",
    "version": 3
   },
   "file_extension": ".py",
   "mimetype": "text/x-python",
   "name": "python",
   "nbconvert_exporter": "python",
   "pygments_lexer": "ipython3",
   "version": "3.7.3"
  }
 },
 "nbformat": 4,
 "nbformat_minor": 2
}
